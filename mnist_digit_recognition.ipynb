{
 "cells": [
  {
   "cell_type": "code",
   "execution_count": null,
   "id": "198daf5c-4230-48d6-ae09-d5e97f39232f",
   "metadata": {},
   "outputs": [],
   "source": [
    "from pathlib import Path\n",
    "import zipfile"
   ]
  },
  {
   "cell_type": "code",
   "execution_count": null,
   "id": "5117a9bb-d705-476c-8726-a5120b44e434",
   "metadata": {},
   "outputs": [],
   "source": [
    "# Creating path for data in the local system\n",
    "data_path = Path(\"Data/digit-recognizer\")\n",
    "image_path = data_path / \"digit_recognizer\"\n",
    "\n",
    "if image_path.is_dir():\n",
    "  print(f\"{image_path} directory already exists .... skipp creating one\")\n",
    "else:\n",
    "  print(f\"{image_path} does not exist, creating one...\")\n",
    "  image_path.mkdir(parents=True, exist_ok=True)\n",
    "    \n",
    "with zipfile.ZipFile(data_path / \"digit-recognizer.zip\", \"r\") as f:\n",
    "    print(\"Unzipping the file...\")\n",
    "    f.extractall(image_path)"
   ]
  },
  {
   "cell_type": "code",
   "execution_count": null,
   "id": "5dd30ec9-2c35-443a-ae60-9906a575e8f4",
   "metadata": {},
   "outputs": [],
   "source": [
    "import numpy as np\n",
    "import pandas as pd\n",
    "import matplotlib.pyplot as plt\n"
   ]
  },
  {
   "cell_type": "code",
   "execution_count": null,
   "id": "4b554017-241d-45e0-bcd5-3d79d88bb3e4",
   "metadata": {},
   "outputs": [],
   "source": [
    "data = pd.read_csv(\"Data/digit-recognizer/digit_recognizer/train.csv\")"
   ]
  },
  {
   "cell_type": "code",
   "execution_count": null,
   "id": "c88e72db-3bea-4863-978a-56664890006d",
   "metadata": {},
   "outputs": [],
   "source": [
    "data.shape"
   ]
  },
  {
   "cell_type": "markdown",
   "id": "d6ee4565-09ff-4ad6-be62-0e011af6ec73",
   "metadata": {},
   "source": [
    "# Splitting the data into validation and training data \n"
   ]
  },
  {
   "cell_type": "code",
   "execution_count": null,
   "id": "fe44790f-53bc-49a9-bc03-909b3be6c20b",
   "metadata": {},
   "outputs": [],
   "source": [
    "# convert the DataFrame into numpy array\n",
    "data = np.array(data)\n",
    "m, n = data.shape            # number of rows,m and columns,n \n",
    "# Shuffle before spliting \n",
    "np.random.shuffle(data)\n",
    "\n",
    "data_val = data[0:1000].T   # transpose taken because the matrix multiplication requires the shape match \n",
    "Y_val = data_val[0]         # because the zeroth column is of label(image drawn by the user)\n",
    "X_val = data_val[1:n]\n",
    "\"\"\"\n",
    "Each pixel has a single pixel-value associated with it, indicating the lightness or darkness of that pixel,\n",
    "with higher numbers meaning darker. This pixel-value is an integer between 0 and 255, inclusive.\n",
    "\"\"\"\n",
    "X_val = X_val/255           # each pixel has value between 0-255\n",
    "\n",
    "data_train = data[1000:m].T\n",
    "Y_train = data_train[0]\n",
    "X_train = data_train[1:n]\n",
    "X_train = X_train/255\n"
   ]
  },
  {
   "cell_type": "code",
   "execution_count": null,
   "id": "06a80c66-cc45-40fc-adcc-17f1d708d36e",
   "metadata": {},
   "outputs": [],
   "source": [
    "X_train[:, 0].shape"
   ]
  },
  {
   "cell_type": "markdown",
   "id": "c3151fb3-97d5-41fe-9019-208e20f09e2b",
   "metadata": {},
   "source": [
    "The NN will have 3 layer Architecture. Input layer A[0] will have 784 units corresponding to 784 pixels n each 28*28 input image.\n",
    "Two hidden layers will have 100 units and 10 units with ReLU activation within them for non linearity and to increase the complexity of the network .\n",
    "Output layer will have 10 units corresponding to the ten digit classes with Softmax activation.\n",
    "\n",
    "# Forward Activation:\n",
    "      Z[1] = W[1]X + b[1]\n",
    "      A[1] = gReLU(Z[1])\n",
    "      Z[2] = W[2]A[1] + b[2]\n",
    "      A[2] = gReLU(Z[2])\n",
    "      Z[3] = W[3]A[2] + b[3]\n",
    "      A[3] = gsoftmax(Z[3])\n",
    "        \n",
    "        \n",
    "# Backward Activation:\n",
    "      dZ[3] = Z[3] - Y                    # calculate the loss(difference between the predicted value and the real value)\n",
    "      dW[3] = 1/m(dZ[3]A[2].T)\n",
    "      dB[3] = 1/m(sum(dZ[3])\n",
    "      dZ[2] = W[2].T.dZ[3].derivative_relu(A[2])\n",
    "      dW[2] = 1/m(dZ[2]A[1].T)\n",
    "      dB[2] = 1/m(sum(dZ[2]\n",
    "      dZ[1] = W[1].T.dZ[2].derivative_relu(A[1])\n",
    "      dW[2] = 1/m(dZ[1]A[0].T)\n",
    "      dB[2] = 1/m(sum(dZ[1]\n",
    "                      \n",
    "# Parameter Update:\n",
    "      W[3] = W[3] - alpha(dW[3])\n",
    "      b[3] = b[3] - alpha(dB[3])\n",
    "      W[2] = W[2] - alpha(dW[2])\n",
    "      b[2] = b[2] - alpha(dB[3])\n",
    "      W[1] = W[1] - alpha(dW[1])\n",
    "      b[1] = b[1] - alpha(dB[3])\n",
    "                      \n",
    "# Variables and shapes :\n",
    "                      A[0] = X: 785*m\n",
    "                      Z[1] ~ A[1] = 100*m\n",
    "                      W[1] : 100*785 (as W[1].A[0] = Z[1])\n",
    "                      B[1] = 100*1\n",
    "                      Z[2] ~ A[2] = 100*m\n",
    "                      W[2] : 100*100 (as W[2].A[1] = Z[2])\n",
    "                      B[2] = 100*1\n",
    "                      Z[3] ~ A[3] = 10*m\n",
    "                      W[3] : 10*100 (as W[3].A[2] = Z[1])\n",
    "                      B[3] = 10*1\n",
    "                      \n",
    "    * Backprop:\n",
    "                      dZ[3] = A[3] : 10*m\n",
    "                      dW[3] = 10*10\n",
    "                      dB[3] = 10*1\n",
    "                      dZ[2] = A[2] : 100*m\n",
    "                      dW[2] = 100*100\n",
    "                      dB[2] = 100*1\n",
    "                      dZ[1] = A[1] : 100*m\n",
    "                      dW[3] = 100*784\n",
    "                      dB[3] = 100*1\n",
    "                      "
   ]
  },
  {
   "cell_type": "code",
   "execution_count": null,
   "id": "169b32d1-fc3e-406a-b3d5-f695dfb20e8e",
   "metadata": {},
   "outputs": [],
   "source": [
    "# Defining the functions for every process\n",
    "\n",
    "def init_params():\n",
    "    W1 = np.random.rand(100,784) - 0.5\n",
    "    b1 = np.random.rand(100,1) - 0.5\n",
    "    W2 = np.random.rand(100,100) - 0.5\n",
    "    b2 = np.random.rand(100,1) - 0.5\n",
    "    W3 = np.random.rand(10,100) - 0.5\n",
    "    b3 = np.random.rand(10,1) - 0.5\n",
    "    return W1, b1, W2, b2, W3, b3\n",
    "\n",
    "def ReLU(Z):\n",
    "    return np.maximum(Z, 0)\n",
    "\n",
    "def softmax(Z):\n",
    "    return np.exp(Z)/sum(np.exp(Z))\n",
    "\n",
    "def forward_prop(W1, b1, W2, b2, W3, b3, X):\n",
    "    Z1 = W1.dot(X) + b1\n",
    "    A1 = ReLU(Z1)\n",
    "    Z2 = W2.dot(A1) + b2\n",
    "    A2 = ReLU(Z2)\n",
    "    Z3 = W3.dot(A2) + b3\n",
    "    A3 = softmax(Z3)\n",
    "    return Z1, A1, Z2, A2, Z3, A3\n",
    "\n",
    "def ReLU_deriv(Z):\n",
    "    return Z > 0                     # logic behind this is the derivative of linear(positive part of ReLU is postive) and derivative of negative part is 0(as a straight line)\n",
    "\n",
    "def one_hot(Y):\n",
    "    one_hot_Y = np.zeros((Y.size, Y.max() + 1))                  # Y is labels from 0 to 9 so 9+1 =10 the total number of classes and teh number of columns ,Y.size =1 so shape is 1*10\n",
    "    one_hot_Y[np.arange(Y.size), Y] = 1\n",
    "    one_hot_Y = one_hot_Y.T\n",
    "    return one_hot_Y\n",
    "\n",
    "\n",
    "def back_prop(Z1, A1, Z2, A2, Z3, A3, W1, W2, W3, X, Y):\n",
    "    one_hot_Y = one_hot(Y)                # one hot the labels as to convert it into array of numbers\n",
    "    \"\"\"trying L2 loss in this network\n",
    "     L2 loss = 1/m sum(y_true - y_pred)**2\n",
    "     derivative of the loss here is 2/m(y_true - y_pred)\n",
    "      did not work as L2 loss is mainly used for regression \n",
    "      for classification we acn use Cross Entropy loss : -1/m(sum(sum(y_true*log(y_pred))))\n",
    "      and its derivative is y_true - y_pred \n",
    "     \"\"\"\n",
    "    dZ3 = A3 - one_hot_Y\n",
    "    dW3 = 1/m * (dZ3.dot(A2.T))\n",
    "    db3 = 1/m * (np.sum(dZ3))\n",
    "    dZ2 = W3.T.dot(dZ3) * ReLU_deriv(Z2)\n",
    "    dW2 = 1/m * (dZ2.dot(A1.T))\n",
    "    db2 = 1/m * (np.sum(dZ2))\n",
    "    dZ1 = W2.T.dot(dZ2) * ReLU_deriv(Z1)\n",
    "    dW1 = 1/m * (dZ1.dot(X.T))\n",
    "    db1 = 1/m * (np.sum(dZ1))\n",
    "    return dW1, db1, dW2, db2, dW3, db3\n",
    "\n",
    "def update_params(dW1, db1, dW2, db2, dW3, db3, W1, b1, W2, b2, W3, b3, alpha):\n",
    "    W1 = W1 - alpha*dW1\n",
    "    b1 = b1 - alpha*db1\n",
    "    W2 = W2 - alpha*dW2\n",
    "    b2 = b2 - alpha*db2\n",
    "    W3 = W3 - alpha*dW3\n",
    "    b3 = b3 - alpha*db3\n",
    "    return W1, b1, W2, b2, W3, b3\n",
    "\n",
    "    \n",
    "    \n",
    "    \n",
    "\n",
    "    "
   ]
  },
  {
   "cell_type": "code",
   "execution_count": null,
   "id": "2776cd00-4cf5-4f7e-90da-f5b622b4089c",
   "metadata": {},
   "outputs": [],
   "source": [
    "# Functions for Getting Predictions and Accuracy  \n",
    "def get_predictions(A3):\n",
    "    return np.argmax(A3, 0)\n",
    "\n",
    "def get_accuracy(predictions, Y):\n",
    "    print(predictions, Y)\n",
    "    return np.sum(predictions==Y) / Y.size\n",
    "\n",
    "\n",
    "                                "
   ]
  },
  {
   "cell_type": "code",
   "execution_count": null,
   "id": "dea79ca6-2151-4415-8639-b4882b03b279",
   "metadata": {},
   "outputs": [],
   "source": [
    "# Defining Gradient Descent for Backpropagation\n",
    "\n",
    "def gradient_descent(X, Y, iterations, alpha):\n",
    "    W1, b1, W2, b2, W3, b3 = init_params()\n",
    "    for i in range(iterations):\n",
    "        Z1, A1, Z2, A2, Z3, A3 = forward_prop(W1, b1, W2, b2, W3, b3, X)\n",
    "        dW1, db1, dW2, db2, dW3, db3 = back_prop(Z1, A1, Z2, A2, Z3, A3, W1, W2, W3, X, Y)\n",
    "        W1, b1, W2, b2, W3, b3 = update_params(dW1, db1, dW2, db2, dW3, db3, W1, b1, W2, b2, W3, b3, alpha)\n",
    "        if i % 10 == 0:\n",
    "            print(f\"Iteration : {i}\")\n",
    "            predictions = get_predictions(A3)\n",
    "            print(get_accuracy(predictions, Y))\n",
    "    return W1, b1, W2, b2, W3, b3\n",
    "        \n",
    "        "
   ]
  },
  {
   "cell_type": "code",
   "execution_count": null,
   "id": "2cf1760c-c925-4efd-a353-4bc95fab564a",
   "metadata": {},
   "outputs": [],
   "source": [
    "# Unpacking the function\n",
    "W1, b1, W2, b2, W3, b3 = gradient_descent(X_train, Y_train, 200, 0.10)"
   ]
  },
  {
   "cell_type": "code",
   "execution_count": null,
   "id": "ef9a6b85-dc74-4d76-9462-c7df598607f6",
   "metadata": {},
   "outputs": [],
   "source": [
    "# Functions for inference and testing \n",
    "def make_predictions(X, W1, b1, W2, b2, W3, b3):\n",
    "    _, _, _, _, _, A3 = forward_prop(W1, b1, W2, b2, W3, b3, X)\n",
    "    predictions = get_predictions(A3)\n",
    "    return predictions\n",
    "\n",
    "def test_predictions(index, W1, b1, W2, b2, W3, b3):\n",
    "    current_image = X_train[:, index, None]\n",
    "    prediction = make_predictions(current_image, W1, b1, W2, b2, W3, b3)\n",
    "    label = Y_train[index]\n",
    "    print(\"Prediction: \", prediction)\n",
    "    print(\"Label:\", label)\n",
    "    \n",
    "    current_image = current_image.reshape((28,28))*255\n",
    "    plt.gray()\n",
    "    plt.imshow(current_image, interpolation=\"nearest\")\n",
    "    plt.show()\n",
    "               \n"
   ]
  },
  {
   "cell_type": "code",
   "execution_count": null,
   "id": "16a106f3-6ac7-414f-b9fe-3e5bea3c7bed",
   "metadata": {},
   "outputs": [],
   "source": [
    "test_predictions(1, W1, b1, W2, b2, W3, b3)\n",
    "test_predictions(145, W1, b1, W2, b2, W3, b3)\n",
    "test_predictions(1000, W1, b1, W2, b2, W3, b3)\n",
    "test_predictions(21000, W1, b1, W2, b2, W3, b3)"
   ]
  },
  {
   "cell_type": "code",
   "execution_count": null,
   "id": "bdc18bb6-32e5-471f-84ea-e26b39bc3925",
   "metadata": {},
   "outputs": [],
   "source": [
    "# Find the accuracy on validation set\n",
    "\n",
    "val_predictions = make_predictions(X_val, W1, b1, W2, b2, W3, b3)\n",
    "get_accuracy(val_predictions, Y_val)"
   ]
  },
  {
   "cell_type": "code",
   "execution_count": null,
   "id": "1644a3a1-f8f4-4a15-a070-2001d1c2c70f",
   "metadata": {},
   "outputs": [],
   "source": []
  }
 ],
 "metadata": {
  "kernelspec": {
   "display_name": "Python 3 (ipykernel)",
   "language": "python",
   "name": "python3"
  },
  "language_info": {
   "codemirror_mode": {
    "name": "ipython",
    "version": 3
   },
   "file_extension": ".py",
   "mimetype": "text/x-python",
   "name": "python",
   "nbconvert_exporter": "python",
   "pygments_lexer": "ipython3",
   "version": "3.10.12"
  }
 },
 "nbformat": 4,
 "nbformat_minor": 5
}
